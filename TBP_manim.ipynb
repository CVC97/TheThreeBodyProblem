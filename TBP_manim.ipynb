{
 "cells": [
  {
   "cell_type": "markdown",
   "metadata": {},
   "source": [
    "# The Three Body Problem\n",
    "\n",
    "Beim Dreikörperproblem wird die Bewegung dreier (Himmels-) Körper unter Einfluss ihrer gegenseitigen Gravitationskraft betrachtet. Da dieses Problem nur für einige spezielle Konfigurationen der drei Körper analytisch lösbar ist, müssen die Bewegungsgleichungen in der Regel durch numerisches Integrieren gelöst werden. Dies soll hier über die Methode der Euler-Integration durchgeführt werden, wobei die Trajektorien entsprechend mit der dem Animationsmodul $\\texttt{manim}$ dargestellt werden.\n",
    "\n",
    "### Import der benötigten Module\n",
    "\n",
    "Import der $\\texttt{manim}$-Bibliothek und Speichern der Bild- und Videoparameter in `video_scene` und `image_scene`. Enthält außerdem die Parameter-Check Funktion, die später die verwendeten Parameter auf Validität bezüglich Arraygröße überprüft."
   ]
  },
  {
   "cell_type": "code",
   "execution_count": 1,
   "metadata": {},
   "outputs": [
    {
     "data": {
      "text/html": [
       "<pre style=\"white-space:pre;overflow-x:auto;line-height:normal;font-family:Menlo,'DejaVu Sans Mono',consolas,'Courier New',monospace\">Manim Community <span style=\"color: #008000; text-decoration-color: #008000\">v0.16.0.post0</span>\n",
       "\n",
       "</pre>\n"
      ],
      "text/plain": [
       "Manim Community \u001b[32mv0.\u001b[0m\u001b[32m16.0\u001b[0m\u001b[32m.post0\u001b[0m\n",
       "\n"
      ]
     },
     "metadata": {},
     "output_type": "display_data"
    },
    {
     "name": "stdout",
     "output_type": "stream",
     "text": [
      "Jupyter Capture Output v0.0.6\n"
     ]
    }
   ],
   "source": [
    "from manim import *\n",
    "import jupyter_capture_output\n",
    "import matplotlib.pyplot as plt\n",
    "from matplotlib.patches import Rectangle\n",
    "\n",
    "video_scene = \" -v WARNING --progress_bar None --disable_caching TBP_Scene\"\n",
    "image_scene = \" -v WARNING --progress_bar None --disable_caching -r 427,240  -s TBP_Scene\"\n",
    "\n",
    "def param_check(framerate, run_time, sun_speed, i_steps):\n",
    "    if run_time * framerate * sun_speed >= i_steps + 1:\n",
    "        raise IndexError('Ihr Positionsarray enthält nicht genüged Einträge. Verändern sie die Parameter!')\n",
    "    else:\n",
    "        print(f'Parameter valide: Es werden {run_time * framerate * sun_speed} der {i_steps + 1} Einträge des Arrays genutzt.')"
   ]
  },
  {
   "cell_type": "markdown",
   "metadata": {},
   "source": [
    "## Numerische (Euler-) Integration\n",
    "\n",
    "Funktionen der numerischen Eulerintegration des Drei-Sonnen-Problems. Sämtliche Rechnungen werden bzw. können in drei Raumdimensionen durchgeführt werden, auch wenn die spätere Animation lediglich zweidimensional sein wird."
   ]
  },
  {
   "cell_type": "code",
   "execution_count": 2,
   "metadata": {},
   "outputs": [],
   "source": [
    "# Berechnung der Distanz zwischen ri und rj \n",
    "def r(xi, yi, zi, xj, yj, zj):\n",
    "    return pow(pow(xi-xj, 2) + pow(yi-yj, 2) + pow(zi-zj, 2) + pow(0.5, 2), 0.5)\n",
    "\n",
    "\n",
    "# Berechnung der Gravitationsbeschleunigung ausgeübt von mj auf mi \n",
    "def g(posi, posj, mj, r):\n",
    "    G = 6.67259 * pow(10, -11)\n",
    "    return G*(posj-posi)*mj/pow(r, 3)\n",
    "\n",
    "\n",
    "# Berechnung der Massezentrumskoordinaten\n",
    "def com(pos1, m1, pos2, m2, pos3, m3):\n",
    "    return (pos1 * m1 + pos2 * m2 + pos3 * m3) / (m1 + m2 + m3)\n",
    "\n",
    "\n",
    "# Numerische (Euler-) Integration\n",
    "def thethreebodyproblem(m1, x1, y1, z1, v_x1, v_y1, v_z1, m2, x2, y2, z2, v_x2, v_y2, v_z2, m3, x3, y3, z3, v_x3, v_y3, v_z3, n, T):\n",
    "    # Integrationsschrittweite\n",
    "    dt = T / n\n",
    "    \n",
    "    # Initiale Massezentren\n",
    "    cox = com(x1, m1, x2, m2, x3, m3)\n",
    "    coy = com(y1, m1, y2, m2, y3, m3)\n",
    "    coz = com(z1, m1, z2, m2, z3, m3)\n",
    "\n",
    "    # Erstellen des (leeren) Positionsarrays und hinzufügen der initialen (Schwerpunkts-) Positionen\n",
    "    TBP_pos = np.zeros((3, 3, n+1))\n",
    "\n",
    "    TBP_pos[0, 0, 0] = x1 - cox\n",
    "    TBP_pos[0, 1, 0] = y1 - coy\n",
    "    TBP_pos[0, 2, 0] = z1 - coz\n",
    "\n",
    "    TBP_pos[1, 0, 0] = x2 - cox\n",
    "    TBP_pos[1, 1, 0] = y2 - coy\n",
    "    TBP_pos[1, 2, 0] = z2 - coz\n",
    "\n",
    "    TBP_pos[2, 0, 0] = x3 - cox\n",
    "    TBP_pos[2, 1, 0] = y3 - coy\n",
    "    TBP_pos[2, 2, 0] = z3 - coz\n",
    "\n",
    "    for i in range(1, n+1):\n",
    "        # Berechnung der Distanzen\n",
    "        r12 = r(x1, y1, z1, x2, y2, z2)\n",
    "        r23 = r(x2, y2, z2, x3, y3, z3)\n",
    "        r31 = r(x3, y3, z3, x1, y1, z1)\n",
    "\n",
    "        # Berechnung der aktuellen Gravitationsbeschleunigungen\n",
    "        g_x1 = g(x1, x2, m2, r12) + g(x1, x3, m3, r31)\n",
    "        g_y1 = g(y1, y2, m2, r12) + g(y1, y3, m3, r31)\n",
    "        g_z1 = g(z1, z2, m2, r12) + g(z1, z3, m3, r31)\n",
    "\n",
    "        g_x2 = g(x2, x3, m3, r23) + g(x2, x1, m1, r12)\n",
    "        g_y2 = g(y2, y3, m3, r23) + g(y2, y1, m1, r12)\n",
    "        g_z2 = g(z2, z3, m3, r23) + g(z2, z1, m1, r12)\n",
    "\n",
    "        g_x3 = g(x3, x1, m1, r31) + g(x3, x2, m2, r23)\n",
    "        g_y3 = g(y3, y1, m1, r31) + g(y3, y2, m2, r23)\n",
    "        g_z3 = g(z3, z1, m1, r31) + g(z3, z2, m2, r23)\n",
    "\n",
    "        # Aktualisieren der Geschwindigkeiten\n",
    "        v_x1 += g_x1 * dt\n",
    "        v_y1 += g_y1 * dt\n",
    "        v_z1 += g_z1 * dt\n",
    "\n",
    "        v_x2 += g_x2 * dt\n",
    "        v_y2 += g_y2 * dt\n",
    "        v_z2 += g_z2 * dt\n",
    "\n",
    "        v_x3 += g_x3 * dt\n",
    "        v_y3 += g_y3 * dt\n",
    "        v_z3 += g_z3 * dt        \n",
    "\n",
    "        # Aktualisieren der Positionen\n",
    "        x1 += v_x1 * dt\n",
    "        y1 += v_y1 * dt\n",
    "        z1 += v_z1 * dt\n",
    "\n",
    "        x2 += v_x2 * dt\n",
    "        y2 += v_y2 * dt\n",
    "        z2 += v_z2 * dt\n",
    "\n",
    "        x3 += v_x3 * dt\n",
    "        y3 += v_y3 * dt\n",
    "        z3 += v_z3 * dt    \n",
    "\n",
    "        # Aktualisieren der Massezentren\n",
    "        cox = com(x1, m1, x2, m2, x3, m3)\n",
    "        coy = com(y1, m1, y2, m2, y3, m3)\n",
    "        coz = com(z1, m1, z2, m2, z3, m3)\n",
    "\n",
    "        # Hinzufügen der aktualisierten Positionen zum Array\n",
    "        TBP_pos[0, 0, i] = x1 - cox\n",
    "        TBP_pos[0, 1 ,i] = y1 - coy\n",
    "        TBP_pos[0, 2, i] = z1 - coz\n",
    "\n",
    "        TBP_pos[1, 0, i] = x2 - cox\n",
    "        TBP_pos[1, 1, i] = y2 - coy\n",
    "        TBP_pos[1, 2, i] = z2 - coz\n",
    "\n",
    "        TBP_pos[2, 0, i] = x3 - cox\n",
    "        TBP_pos[2, 1, i] = y3 - coy\n",
    "        TBP_pos[2, 2, i] = z3 - coz\n",
    "        \n",
    "    return TBP_pos"
   ]
  },
  {
   "cell_type": "markdown",
   "metadata": {},
   "source": [
    "### Einstellen der Parameter der Eulerintegration\n",
    "\n",
    "In der folgenden Code-Zelle sind die Paramter der Sonnen, also die Massen $m_i$, die Startpositionen $\\{x_i, y_i, z_i\\}$ und die -geschwindigkeiten $\\{v_{x, i}, v_{y, i}, v_{z, i}\\}$ definiert. Da die spätere Animation in 2 Raumdimensionen (es werden lediglich $x$ und $y$-Komponente verwendet) durchgeführt wird, empfielt es sich sämtliche $z$-Komponenten gleich $0$ zu setzen, letztendlich sind sie irrelevant.\n",
    "\n",
    "Durch Nullsetzen einer der Massen kann das Problem auf ein Zweikörper-Problem reduziert werden (welches ebenfalls generell analytisch lösbar ist)."
   ]
  },
  {
   "cell_type": "code",
   "execution_count": 217,
   "metadata": {},
   "outputs": [],
   "source": [
    "# Sonne 1\n",
    "m1 = 2*pow(10, 5)\n",
    "\n",
    "x1 = -np.cos(1/4*np.pi)*2\n",
    "y1 = np.sin(1/4*np.pi)*2\n",
    "z1 = 0\n",
    "\n",
    "v_x1 = 0\n",
    "v_y1 = -0.0005\n",
    "v_z1 = 0\n",
    "\n",
    "# Sonne 2\n",
    "m2 = 2*pow(10, 5)\n",
    "\n",
    "x2 = np.cos(1/4*np.pi)*2\n",
    "y2 = np.sin(1/4*np.pi)*2\n",
    "z2 = 0\n",
    "\n",
    "v_x2 = -0.0005\n",
    "v_y2 = 0\n",
    "v_z2 = 0\n",
    "\n",
    "# Sonne 3\n",
    "m3 = 2*pow(10, 5)\n",
    "\n",
    "x3 = 0\n",
    "y3 = -2\n",
    "z3 = 0\n",
    "\n",
    "v_x3 = 0.0005\n",
    "v_y3 = 0\n",
    "v_z3 = 0"
   ]
  },
  {
   "cell_type": "markdown",
   "metadata": {},
   "source": [
    "### Einstellen der Integrationsparameter\n",
    "\n",
    "Festlegen der Integrationsparameter `i_steps` für die Schrittweite und `T` für den Gesamtzeitraum. Aufruf der obigen Integrationsfunktion mit den zuvor definierten Parametern. Der Rückgabe ist das in der Variable `TBP` gespeicherte Array und enthält die Postitionen (in Schwerpunktskoordinaten) der 3 Sonnen über jeden der Integrationsschritte. Die erste Dimensionen ist die jeweilige Sonne $\\{1, 2, 3\\}$, die zweite Dimension sind die Koordinaten $\\{x, y, z\\}$, während die innerste Dimension des Arrays über sämtliche Integrationsschritte `n_steps` von $t=0$ bis $t=T$ (inklusive Start- und Endposition) verläuft. \n",
    "\n",
    "Die Arrays $r_i$ enthalten folglich für jede Sonne jeweils die Positionsinformationen (zweite Dimension des Arrays) über die drei Raumdimensionen (äußere Dimension des Arrays)."
   ]
  },
  {
   "cell_type": "code",
   "execution_count": 218,
   "metadata": {},
   "outputs": [],
   "source": [
    "# Integrationsparameter\n",
    "i_steps = 6000\n",
    "T = 200000\n",
    "\n",
    "# Aufruf Hauptintegrationsfunktion mit obigen Parametern und Speichern des Rückgabearrays\n",
    "TBP = thethreebodyproblem(m1, x1, y1, z1, v_x1, v_y1, v_z1, m2, x2, y2, z2, v_x2, v_y2, v_z2, m3, x3, y3, z3, v_x3, v_y3, v_z3, i_steps, T)\n",
    "\n",
    "r1 = TBP[0]\n",
    "r2 = TBP[1]\n",
    "r3 = TBP[2]"
   ]
  },
  {
   "cell_type": "markdown",
   "metadata": {},
   "source": [
    "### Einstellen und Prüfen der Animationsparameter\n",
    "\n",
    "Die Animation überstreicht in einer Sekunde `framerate` $\\times$ `sun_speed` Arrayeinträge, folglich muss die Ungleichung $$\\mathrm{run\\_time}\\times\\mathrm{framerate}\\times\\mathrm{sun\\_speed}\\overset{!}{\\leq}\\mathrm{i\\_steps}-1$$erfüllt sein damit die Animation über die Vollständigkeit der Animationsdauer `run_time` vollständig rendert. Der Parameter-Check prüft entsprechend das Array auf Vollständigkeit bezüglich der Ungleichung. Mit `rays` und `tail` können jeweils Sonnenstrahlen und der Schweif der Trajektorie ein- oder ausgeschaltet werden, die `fade_length` gibt dabei die Länge des Schweifes hinter der Sonne an."
   ]
  },
  {
   "cell_type": "code",
   "execution_count": 227,
   "metadata": {},
   "outputs": [
    {
     "name": "stdout",
     "output_type": "stream",
     "text": [
      "Parameter valide: Es werden 1800 der 6001 Einträge des Arrays genutzt.\n"
     ]
    }
   ],
   "source": [
    "# Animationsparameter\n",
    "framerate = 60\n",
    "run_time = 30\n",
    "sun_speed = 1\n",
    "fade_lenght = 50\n",
    "\n",
    "rays = True\n",
    "tail = True\n",
    "\n",
    "param_check(framerate, run_time, sun_speed, i_steps)"
   ]
  },
  {
   "cell_type": "markdown",
   "metadata": {},
   "source": [
    "## Matplotlib-Vorschau der Trajektorien in 2D/3D\n",
    "\n",
    "Die folgende Jupyter-Zelle bietet die Möglichkeit einer Vorschau der drei Sonnen-Trajektorien in 2D, dargestellt mit $\\texttt{Matplotlib}$. Dies erspart einem unter Umständen das zeitintensive Rendern ungeeigneter Parameter. Mit den obigen Animationsparametern wird der durchgängige Teil der geplotteten Trajektorie in der Animation dargestellt werden, der transparentere, gestrichelte Part jedoch nicht. Der Animationsframe befindet sich in dem eingezeichneten Rechteck, die Proportionen weichen unter Umständen ab."
   ]
  },
  {
   "cell_type": "code",
   "execution_count": 226,
   "metadata": {},
   "outputs": [
    {
     "data": {
      "image/png": "[encoded data removed]",
      "text/plain": [
       "<Figure size 1152x648 with 1 Axes>"
      ]
     },
     "metadata": {
      "needs_background": "light"
     },
     "output_type": "display_data"
    }
   ],
   "source": [
    "fig, ax = plt.subplots(figsize = (16,9))\n",
    "used_frames = framerate * run_time * sun_speed\n",
    "\n",
    "ax.plot(r1[0,:used_frames], r1[1,:used_frames], color = 'red', alpha = 0.5)\n",
    "ax.plot(r2[0,:used_frames], r2[1,:used_frames], color = 'blue', alpha = 0.5)\n",
    "ax.plot(r3[0,:used_frames], r3[1,:used_frames], color = 'black', alpha = 0.5)\n",
    "\n",
    "ax.plot(r1[0,used_frames:], r1[1,used_frames:], color = 'red', alpha = 0.25, linestyle = '--')\n",
    "ax.plot(r2[0,used_frames:], r2[1,used_frames:], color = 'blue', alpha = 0.25, linestyle = '--')\n",
    "ax.plot(r3[0,used_frames:], r3[1,used_frames:], color = 'black', alpha = 0.25, linestyle = '--')\n",
    "\n",
    "ax.add_patch(Rectangle((-7.111, -4), 14.222, 8, edgecolor = 'black', facecolor = 'none', lw = 0.75))\n",
    "\n",
    "ax.set_xlabel('$x$')\n",
    "ax.set_ylabel('$y$')\n",
    "\n",
    "plt.grid()\n",
    "plt.savefig('../TBP_extra/TBP_preview_L.png', facecolor = 'white', bbox_inches='tight')\n",
    "plt.show()"
   ]
  },
  {
   "cell_type": "markdown",
   "metadata": {},
   "source": [
    "Auch wenn die Animation lediglich zwei Raumdimensionen umfasst, bietet die folgende Jupyter-Zelle für Interessierte die Möglichkeit einer 3D-Darstellung. "
   ]
  },
  {
   "cell_type": "code",
   "execution_count": 176,
   "metadata": {},
   "outputs": [],
   "source": [
    "# Möglichkeit zur Darstellung der Trajektorien in 3 Raumdimensionen\n",
    "# fig, ax = plt.subplots(subplot_kw=dict(projection='3d'), figsize = (9, 9))\n",
    "\n",
    "# ax.plot(r1[0], r1[1], r1[2], color = 'red', alpha = 0.5)\n",
    "# ax.plot(r2[0], r2[1], r2[2], color = 'blue', alpha = 0.5)\n",
    "# ax.plot(r3[0], r3[1], r3[2], color = 'black', alpha = 0.5)\n",
    "\n",
    "# ax.set_xlabel('$x$')\n",
    "# ax.set_ylabel('$y$')\n",
    "# ax.set_zlabel('$z$')\n",
    "\n",
    "# plt.grid()\n",
    "# plt.show()"
   ]
  },
  {
   "cell_type": "markdown",
   "metadata": {},
   "source": [
    "## Animationen mit Manim\n",
    "\n",
    "### Einleitende Textzeilen"
   ]
  },
  {
   "cell_type": "code",
   "execution_count": 40,
   "metadata": {},
   "outputs": [
    {
     "name": "stdout",
     "output_type": "stream",
     "text": [
      "[Text('Hi'), Text('Gut in der Schweiz angekommen?'), Text('hab noch ein Video xD'), Text('muss aber nochmal mehr\\nStartbedingungen druchprobieren'), Text('noch nie unterschieliche\\nMassen probiert'), Text(';)')]\n"
     ]
    },
    {
     "data": {
      "text/html": [
       "<video src=\"media/jupyter/TBP_Scene@2022-09-10@17-01-43.mp4\" controls autoplay loop style=\"max-width: 60%;\"  >\n",
       "      Your browser does not support the <code>video</code> element.\n",
       "    </video>"
      ],
      "text/plain": [
       "<IPython.core.display.Video object>"
      ]
     },
     "metadata": {},
     "output_type": "display_data"
    }
   ],
   "source": [
    "%%capture_video --path \"../TBP_extra/TBP_Introduction.mp4\"\n",
    "%%manim -ql --fps 60 $video_scene\n",
    "\n",
    "# Einleitungstext\n",
    "class TBP_Scene(Scene):\n",
    "    def construct(self):\n",
    "        text_list = ['Hi', 'Gut in der Schweiz angekommen?', 'hab noch ein Video xD', 'muss aber nochmal mehr\\nStartbedingungen druchprobieren', 'noch nie unterschieliche\\nMassen probiert', ';)']\n",
    "\n",
    "        t_pol = []\n",
    "        t_pol.append(Text(text_list[0], color = BLUE).shift(UP))\n",
    "        for i in range(1, len(text_list)-1):\n",
    "            if i % 2 == 1:\n",
    "                t_pol.append(Text(text_list[i], color = WHITE).shift(DOWN))\n",
    "            else:\n",
    "                t_pol.append(Text(text_list[i], color = BLUE).shift(DOWN))\n",
    "        t_pol.append(Text(text_list[i+1], color = RED))\n",
    "        print(t_pol)\n",
    "        self.play(Write(t_pol[0]), run_time = 2)\n",
    "        for i in range(1, len(t_pol)-1):\n",
    "            self.play(Write(t_pol[i]), run_time=2)\n",
    "            self.play(FadeOut(t_pol[i-1]), ApplyMethod(t_pol[i].shift, 2*UP), run_time=2)\n",
    "        self.play(ReplacementTransform(t_pol[len(t_pol)-2], t_pol[len(t_pol)-1]), run_time=2)\n",
    "        self.wait(2)"
   ]
  },
  {
   "cell_type": "markdown",
   "metadata": {},
   "source": [
    "### Startanimationen der Sonnen\n",
    "\n",
    "Die Startanimation lässt die Sonnen erscheinen, fügt gegebenenfalls ihre Strahlen hinzu und bewegt die Sonnen anschließend in ihre Startposition."
   ]
  },
  {
   "cell_type": "code",
   "execution_count": 235,
   "metadata": {},
   "outputs": [
    {
     "data": {
      "text/html": [
       "<video src=\"media/jupyter/TBP_Scene@2022-09-10@20-57-27.mp4\" controls autoplay loop style=\"max-width: 60%;\"  >\n",
       "      Your browser does not support the <code>video</code> element.\n",
       "    </video>"
      ],
      "text/plain": [
       "<IPython.core.display.Video object>"
      ]
     },
     "metadata": {},
     "output_type": "display_data"
    }
   ],
   "source": [
    "%%capture_video --path \"../TBP_extra/TBP_StartingAnimation.mp4\"\n",
    "%%manim -ql --fps 60 $video_scene\n",
    "\n",
    "# Startanimation\n",
    "class TBP_Scene(Scene):\n",
    "    def construct(self):\n",
    "        timeline = ValueTracker(0)\n",
    "\n",
    "        # Kreieren der 3 Sonnen\n",
    "        sun1 = VGroup(Circle(color = WHITE, radius = 0.1, fill_color = WHITE, fill_opacity = 0.5)).shift(2*LEFT)\n",
    "        sun2 = VGroup(Circle(color = RED, radius = 0.1, fill_color = RED, fill_opacity = 0.5))\n",
    "        sun3 = VGroup(Circle(color = YELLOW, radius = 0.1, fill_color = YELLOW, fill_opacity = 0.5)).shift(2*RIGHT)\n",
    "\n",
    "        # Überschrift\n",
    "        head = Text('Numerical Solution of the Three-Body-Problem', color = WHITE).to_edge(UP).scale(0.8)\n",
    "        foot = Text('displayed in manim using center-of-mass coordinates', color = BLUE).to_edge(DOWN). scale(0.5)\n",
    "        self.play(Write(head), run_time = 2)\n",
    "        self.wait(0.5)\n",
    "        self.play(ReplacementTransform(head, VGroup(sun1, sun2, sun3)), run_time = 2)\n",
    "        self.wait(0.5)\n",
    "\n",
    "        # Hizufügen der Strahlen (optional)\n",
    "        if rays:\n",
    "            for i in range(16):\n",
    "                sb1e = Line().rotate(2*PI/16*i).scale(0.15).shift(2*LEFT).get_end()\n",
    "                s1e = Line().rotate(2*PI/16*i).scale(np.random.uniform(0.3, 0.6)).shift(2*LEFT).get_end()\n",
    "                sun1_ray = DashedLine(sb1e, s1e, color = WHITE, dash_length=0.005)\n",
    "                sun1.add(sun1_ray)\n",
    "                self.add(sun1_ray)\n",
    "                self.wait(0.075)\n",
    "\n",
    "            for i in range(16):\n",
    "                sb2e = Line().rotate(2*PI/16*i).scale(0.15).get_end()\n",
    "                s2e = Line().rotate(2*PI/16*i).scale(np.random.uniform(0.3, 0.6)).get_end()\n",
    "                sun2_ray = DashedLine(sb2e, s2e, color = RED, dash_length=0.005)\n",
    "                sun2.add(sun2_ray)\n",
    "                self.add(sun2_ray)\n",
    "                self.wait(0.075)\n",
    "\n",
    "            for i in range(16):\n",
    "                sb3e = Line().rotate(2*PI/16*i).scale(0.15).shift(2*RIGHT).get_end()\n",
    "                s3e = Line().rotate(2*PI/16*i).scale(np.random.uniform(0.3, 0.6)).shift(2*RIGHT).get_end()\n",
    "                sun3_ray = DashedLine(sb3e, s3e, color = YELLOW, dash_length=0.005)\n",
    "                sun3.add(sun3_ray) \n",
    "                self.add(sun3_ray)\n",
    "                self.wait(0.075)\n",
    "\n",
    "        # Positionier-Animationen der Sonnen\n",
    "        self.play(sun1.animate.shift(r1[:,0] + 2*RIGHT), sun2.animate.shift(r2[:,0]), sun3.animate.shift(r3[:,0] + 2*LEFT), run_time = 1.5)\n",
    "\n",
    "        #self.play(ReplacementTransform(head, foot))\n",
    "        self.wait(1)"
   ]
  },
  {
   "cell_type": "markdown",
   "metadata": {},
   "source": [
    "### Hauptanimation der Trajektorie\n",
    "\n",
    "Als Richtwert: Das Rendern für `20 s` Video in `60 fps` dauert ungefähr vier Minuten, ohne Strahlen kann die Renderzeit auf ca. eine Minute reduziert werden, ohne Schweif und Strahlen liegt sie unter zehn Sekunden. \n",
    "\n",
    "Während an der Länge der Animation natürlich gespart werden kann, sind `60 fps` stark zu empfehlen, da das Positionsarray pro Frame aufgerufen wird und ansonsten die Geschwindigkeit der Sonnen $v_S$ in der Animation leidet. Insgesamt ist die Sonnengeschwindigkeit proportional zu folgenden Parametern und kann entsprechend angepasst werden: $$\\begin{align*}v_S\\propto&~\\mathrm{framerate}\\\\v_S\\propto&~\\mathrm{sun\\_speed}\\\\v_S\\propto&~\\mathrm{T}\\\\v_S\\propto&~\\mathrm{i\\_steps}^{-1}\\end{align*}$$\n",
    "\n",
    "Render und Enjoy. "
   ]
  },
  {
   "cell_type": "code",
   "execution_count": 228,
   "metadata": {},
   "outputs": [
    {
     "data": {
      "text/html": [
       "<video src=\"media/jupyter/TBP_Scene@2022-09-10@19-39-44.mp4\" controls autoplay loop style=\"max-width: 60%;\"  >\n",
       "      Your browser does not support the <code>video</code> element.\n",
       "    </video>"
      ],
      "text/plain": [
       "<IPython.core.display.Video object>"
      ]
     },
     "metadata": {},
     "output_type": "display_data"
    }
   ],
   "source": [
    "%%capture_video --path \"../TBP_extra/TBP_MainAnimation_L2.mp4\"\n",
    "%%manim -ql --fps {framerate} $video_scene\n",
    "\n",
    "class TBP_Scene(Scene):\n",
    "    def construct(self):\n",
    "        timeline = ValueTracker(0)\n",
    "\n",
    "        # Kreieren der 3 Sonnen\n",
    "        sun1 = VGroup(Circle(color = WHITE, radius = 0.1, fill_color = WHITE, fill_opacity = 0.5))\n",
    "        sun2 = VGroup(Circle(color = RED, radius = 0.1, fill_color = RED, fill_opacity = 0.5))\n",
    "        sun3 = VGroup(Circle(color = YELLOW, radius = 0.1, fill_color = YELLOW, fill_opacity = 0.5))\n",
    "\n",
    "        # Positionsiteratoren der 3 Sonnen\n",
    "        sun1.iter = iter(r1.T[::sun_speed,])\n",
    "        sun2.iter = iter(r2.T[::sun_speed,])\n",
    "        sun3.iter = iter(r3.T[::sun_speed,])\n",
    "\n",
    "        # Updater der Sonnenpositionen\n",
    "        def sun_updater(sun):\n",
    "            sun.move_to(next(sun.iter))\n",
    "\n",
    "        # Schweif-Updater\n",
    "        def dot1_fadeout_updater(dot1):\n",
    "            if dot1.counter != fade_lenght and dot1.counter != 1:\n",
    "                dot1.fill_opacity -= 1/fade_lenght\n",
    "                dot1.set_opacity(dot1.fill_opacity)\n",
    "                dot1.counter -= 1                \n",
    "            elif dot1.counter == fade_lenght:\n",
    "                dot1.move_to(sun1.get_center())\n",
    "                dot1.fill_opacity = 1\n",
    "                dot1.set_opacity(dot1.fill_opacity)\n",
    "                dot1.counter -= 1\n",
    "            else:\n",
    "                dot1.counter = fade_lenght\n",
    "                dot1.fill_opacity = 1\n",
    "\n",
    "        def dot2_fadeout_updater(dot2):\n",
    "            if dot2.counter != fade_lenght and dot2.counter != 1:\n",
    "                dot2.fill_opacity -= 1/fade_lenght\n",
    "                dot2.set_opacity(dot2.fill_opacity)\n",
    "                dot2.counter -= 1                \n",
    "            elif dot2.counter == fade_lenght:\n",
    "                dot2.move_to(sun2.get_center())\n",
    "                dot2.fill_opacity = 1\n",
    "                dot2.set_opacity(dot2.fill_opacity)\n",
    "                dot2.counter -= 1\n",
    "            else:\n",
    "                dot2.counter = fade_lenght\n",
    "                dot2.fill_opacity = 1           \n",
    "\n",
    "        def dot3_fadeout_updater(dot3):\n",
    "            if dot3.counter != fade_lenght and dot3.counter != 1:\n",
    "                dot3.fill_opacity -= 1/fade_lenght\n",
    "                dot3.set_opacity(dot3.fill_opacity)\n",
    "                dot3.counter -= 1\n",
    "            elif dot3.counter == fade_lenght:\n",
    "                dot3.move_to(sun3.get_center())\n",
    "                dot3.fill_opacity = 1\n",
    "                dot3.set_opacity(dot3.fill_opacity)\n",
    "                dot3.counter -= 1\n",
    "            else:\n",
    "                dot3.counter = fade_lenght\n",
    "                dot3.fill_opacity = 1\n",
    "\n",
    "        # Hinzufügen der Schweife\n",
    "        if tail:\n",
    "            for i in range(fade_lenght):\n",
    "                dot1 = Dot(radius = 0.05, fill_color = WHITE, fill_opacity = 0.5)\n",
    "                dot1.counter = fade_lenght + i\n",
    "                dot1.fill_opacity = 0\n",
    "                dot1.set_opacity(dot1.fill_opacity)\n",
    "                self.add(dot1)\n",
    "                dot1.add_updater(dot1_fadeout_updater)\n",
    "\n",
    "                dot2 = Dot(radius = 0.05, fill_color = RED, fill_opacity = 0.5)\n",
    "                dot2.counter = fade_lenght + i\n",
    "                dot2.fill_opacity = 0\n",
    "                dot2.set_opacity(dot2.fill_opacity)\n",
    "                self.add(dot2)\n",
    "                dot2.add_updater(dot2_fadeout_updater)\n",
    "\n",
    "                dot3 = Dot(radius = 0.05, fill_color = YELLOW, fill_opacity = 0.5)\n",
    "                dot3.counter = fade_lenght + i\n",
    "                dot3.fill_opacity = 0\n",
    "                dot3.set_opacity(dot3.fill_opacity)\n",
    "                self.add(dot3)\n",
    "                dot3.add_updater(dot3_fadeout_updater)\n",
    "\n",
    "        # Hizufügen der Strahlen (optional)\n",
    "        if rays:\n",
    "            for i in range(16):\n",
    "                se = Line(color = RED).rotate(2*PI/16*i).scale(0.15).get_end()\n",
    "                s1e = Line().rotate(2*PI/16*i).scale(np.random.uniform(0.3, 0.6)).get_end()\n",
    "                s2e = Line().rotate(2*PI/16*i).scale(np.random.uniform(0.3, 0.6)).get_end()\n",
    "                s3e = Line().rotate(2*PI/16*i).scale(np.random.uniform(0.3, 0.6)).get_end()\n",
    "                sun1_ray = DashedLine(se, s1e, color = WHITE, dash_length=0.005)\n",
    "                sun2_ray = DashedLine(se, s2e, color = RED, dash_length=0.005)\n",
    "                sun3_ray = DashedLine(se, s3e, color = YELLOW, dash_length=0.005)\n",
    "                sun1.add(sun1_ray)\n",
    "                sun2.add(sun2_ray)\n",
    "                sun3.add(sun3_ray)\n",
    "\n",
    "        # Hinzufügen der Sonnen\n",
    "        self.add(sun1, sun2, sun3)\n",
    "\n",
    "        sun1.move_to(r1[:,0])\n",
    "        sun2.move_to(r2[:,0])\n",
    "        sun3.move_to(r3[:,0])\n",
    "        \n",
    "        # Hinzufügen der Updater\n",
    "        sun1.add_updater(sun_updater)\n",
    "        sun2.add_updater(sun_updater)\n",
    "        sun3.add_updater(sun_updater)\n",
    "\n",
    "        # Timeline als ValueTracker\n",
    "        self.play(timeline.animate.set_value(5), rate_func= linear, run_time = run_time)"
   ]
  },
  {
   "cell_type": "markdown",
   "metadata": {},
   "source": [
    "<!-- ## Import der Module\n",
    "\n",
    "Import der benötigten Module manim und numpy. Ebenfalls $\\texttt{TBP\\_array}$, das Array der numerischen Integration der Bewegungsgleichungen der 3 Sonnen, sowie $\\texttt{free()}$ für die Wiederfreigabe des Arrays auf dem Arbeitsspeicher, nach dem Kopieren auf $\\texttt{TBP}$. Das usprüngliche Array befand sich auf dem Arbeitsspeicher an der zurückgegenenen Position, dabei sollte die freigegebene Adresse der Rückgabeadresse entsprechen.  -->\n",
    "\n",
    "\n",
    "<!-- ```c\n",
    "double r(double xi, double yi, double zi, double xj, double yj, double zj) {\n",
    "    return pow(pow(xi-xj, 2) + pow(yi-yj, 2) + pow(zi-zj, 2), 0.5);\n",
    "}\n",
    "``` -->"
   ]
  }
 ],
 "metadata": {
  "kernelspec": {
   "display_name": "Python 3.10.4 64-bit",
   "language": "python",
   "name": "python3"
  },
  "language_info": {
   "codemirror_mode": {
    "name": "ipython",
    "version": 3
   },
   "file_extension": ".py",
   "mimetype": "text/x-python",
   "name": "python",
   "nbconvert_exporter": "python",
   "pygments_lexer": "ipython3",
   "version": "3.10.4"
  },
  "orig_nbformat": 4,
  "vscode": {
   "interpreter": {
    "hash": "916dbcbb3f70747c44a77c7bcd40155683ae19c65e1c03b4aa3499c5328201f1"
   }
  }
 },
 "nbformat": 4,
 "nbformat_minor": 2
}
